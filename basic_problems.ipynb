{
 "cells": [
  {
   "cell_type": "markdown",
   "metadata": {},
   "source": [
    "Write a program to iterate the first 10 numbers, and in each iteration,\n",
    " print the sum of the current and previous number."
   ]
  },
  {
   "cell_type": "code",
   "execution_count": 6,
   "metadata": {},
   "outputs": [
    {
     "name": "stdout",
     "output_type": "stream",
     "text": [
      "Previous number :  0  Current number :  0  Sum :  0\n",
      "Previous number :  0  Current number :  1  Sum :  1\n",
      "Previous number :  1  Current number :  2  Sum :  3\n",
      "Previous number :  2  Current number :  3  Sum :  6\n",
      "Previous number :  3  Current number :  4  Sum :  10\n",
      "Previous number :  4  Current number :  5  Sum :  15\n",
      "Previous number :  5  Current number :  6  Sum :  21\n",
      "Previous number :  6  Current number :  7  Sum :  28\n",
      "Previous number :  7  Current number :  8  Sum :  36\n",
      "Previous number :  8  Current number :  9  Sum :  45\n",
      "Previous number :  9  Current number :  10  Sum :  55\n"
     ]
    }
   ],
   "source": [
    "prev_number = 0\n",
    "sum = 0\n",
    "for i in range(0,11):\n",
    "    sum = sum + i\n",
    "    print(\"Previous number : \", prev_number , \" Current number : \", i , \" Sum : \", sum)\n",
    "    prev_number = i"
   ]
  },
  {
   "cell_type": "markdown",
   "metadata": {},
   "source": [
    "Write a program to accept a string from the user and display characters that are present at an even index number."
   ]
  },
  {
   "cell_type": "code",
   "execution_count": 16,
   "metadata": {},
   "outputs": [
    {
     "name": "stdout",
     "output_type": "stream",
     "text": [
      "['c', 's', 'y']\n"
     ]
    }
   ],
   "source": [
    "string = list(input())\n",
    "print(string[::2])"
   ]
  },
  {
   "cell_type": "markdown",
   "metadata": {},
   "source": [
    "Write a program to remove characters from a string starting from zero up to n and return a new string."
   ]
  },
  {
   "cell_type": "code",
   "execution_count": 17,
   "metadata": {},
   "outputs": [
    {
     "name": "stdout",
     "output_type": "stream",
     "text": [
      "['t', 'h', 'o', 'n']\n"
     ]
    }
   ],
   "source": [
    "string = list(input())\n",
    "n = int(input())\n",
    "print(string[n::])"
   ]
  },
  {
   "cell_type": "markdown",
   "metadata": {},
   "source": [
    "Write a function to return True if the first and last number of a given list is same. If numbers are different then return False."
   ]
  },
  {
   "cell_type": "code",
   "execution_count": 18,
   "metadata": {},
   "outputs": [
    {
     "name": "stdout",
     "output_type": "stream",
     "text": [
      "True\n"
     ]
    }
   ],
   "source": [
    "x = input()\n",
    "number = x.split(\",\")\n",
    "numbers = [int(nums.strip()) for nums in number]\n",
    "if numbers[0] == numbers[-1]:\n",
    "    print(\"True\")\n",
    "else:\n",
    "    print(\"False\")"
   ]
  },
  {
   "cell_type": "markdown",
   "metadata": {},
   "source": [
    "Iterate the given list of numbers and print only those numbers which are divisible by 5"
   ]
  },
  {
   "cell_type": "code",
   "execution_count": 20,
   "metadata": {},
   "outputs": [
    {
     "name": "stdout",
     "output_type": "stream",
     "text": [
      "10 20 10 25 50 "
     ]
    }
   ],
   "source": [
    "x = input()\n",
    "number = x.split(\",\")\n",
    "numbers = [int(num.strip()) for num in number]\n",
    "for num in numbers:\n",
    "    if num%5 == 0:\n",
    "        print(num, end = \" \")"
   ]
  },
  {
   "cell_type": "markdown",
   "metadata": {},
   "source": [
    "Write a program to find how many times substring “Emma” appears in the given string."
   ]
  },
  {
   "cell_type": "code",
   "execution_count": 21,
   "metadata": {},
   "outputs": [
    {
     "name": "stdout",
     "output_type": "stream",
     "text": [
      "Emma appeared  3 times\n"
     ]
    }
   ],
   "source": [
    "string = input()\n",
    "word_search = input()\n",
    "words = string.split(\" \")\n",
    "count = 0\n",
    "word = [elements.strip() for elements in words]\n",
    "for element in word:\n",
    "    if element == word_search:\n",
    "        count += 1\n",
    "print(word_search, \"appeared\" , count, \"times\")"
   ]
  },
  {
   "cell_type": "markdown",
   "metadata": {},
   "source": [
    "Pattern Problems"
   ]
  },
  {
   "cell_type": "markdown",
   "metadata": {},
   "source": [
    "1 <br>\n",
    "2 2<br>\n",
    "3 3 3 <br>\n",
    "4 4 4 4<br>\n",
    "5 5 5 5 5<br>"
   ]
  },
  {
   "cell_type": "code",
   "execution_count": 28,
   "metadata": {},
   "outputs": [
    {
     "name": "stdout",
     "output_type": "stream",
     "text": [
      "1 \n",
      "2 2 \n",
      "3 3 3 \n",
      "4 4 4 4 \n",
      "5 5 5 5 5 \n"
     ]
    }
   ],
   "source": [
    "n = 5\n",
    "for i in range(1,n+1):\n",
    "    for j in range(i):\n",
    "        print(i , end = \" \")\n",
    "    print()"
   ]
  },
  {
   "cell_type": "markdown",
   "metadata": {},
   "source": [
    "1 1 1 1 1<br>\n",
    "2 2 2 2 <br>\n",
    "3 3 3 <br>\n",
    "4 4 <br>\n",
    "5<br>"
   ]
  },
  {
   "cell_type": "code",
   "execution_count": 13,
   "metadata": {},
   "outputs": [
    {
     "name": "stdout",
     "output_type": "stream",
     "text": [
      "1 1 1 1 1 \n",
      "2 2 2 2 \n",
      "3 3 3 \n",
      "4 4 \n",
      "5 \n"
     ]
    }
   ],
   "source": [
    "n = 5\n",
    "for i in range(1,n+1):\n",
    "    for j in range(n+1,i,-1):\n",
    "        print(i, end = \" \")\n",
    "    print()"
   ]
  },
  {
   "cell_type": "markdown",
   "metadata": {},
   "source": [
    "5 5 5 5 5 <br>\n",
    "5 5 5 5 <br>\n",
    "5 5 5 <br>\n",
    "5 5 <br>\n",
    "5<br>"
   ]
  },
  {
   "cell_type": "code",
   "execution_count": 16,
   "metadata": {},
   "outputs": [
    {
     "name": "stdout",
     "output_type": "stream",
     "text": [
      "5 5 5 5 5 \n",
      "5 5 5 5 \n",
      "5 5 5 \n",
      "5 5 \n",
      "5 \n"
     ]
    }
   ],
   "source": [
    "n = 5\n",
    "for i in range(1,n+1):\n",
    "    for j in range(n+1,i,-1):\n",
    "        print(\"5\" , end =\" \")\n",
    "    print()"
   ]
  },
  {
   "cell_type": "markdown",
   "metadata": {},
   "source": [
    "0 1 2 3 4 5 <br>\n",
    "0 1 2 3 4 <br>\n",
    "0 1 2 3 <br>\n",
    "0 1 2 <br>\n",
    "0 1<br>"
   ]
  },
  {
   "cell_type": "code",
   "execution_count": 18,
   "metadata": {},
   "outputs": [
    {
     "name": "stdout",
     "output_type": "stream",
     "text": [
      "0 1 2 3 4 5 \n",
      "0 1 2 3 4 \n",
      "0 1 2 3 \n",
      "0 1 2 \n",
      "0 1 \n",
      "0 \n"
     ]
    }
   ],
   "source": [
    "n = 5\n",
    "for i in range(n+1,0,-1):\n",
    "    for j in range(i):\n",
    "        print(j, end = \" \")\n",
    "    print()"
   ]
  },
  {
   "cell_type": "markdown",
   "metadata": {},
   "source": [
    "1 <br>\n",
    "3 3 <br>\n",
    "5 5 5 <br>\n",
    "7 7 7 7 <br>\n",
    "9 9 9 9 9<br>"
   ]
  },
  {
   "cell_type": "code",
   "execution_count": 25,
   "metadata": {},
   "outputs": [
    {
     "name": "stdout",
     "output_type": "stream",
     "text": [
      "1 \n",
      "3 3 \n",
      "5 5 5 \n",
      "7 7 7 7 \n",
      "9 9 9 9 9 \n"
     ]
    }
   ],
   "source": [
    "n = 5\n",
    "for i in range(1,n+1):\n",
    "    for j in range(i):\n",
    "        print((i*2)-1, end = \" \")\n",
    "    print()"
   ]
  },
  {
   "cell_type": "markdown",
   "metadata": {},
   "source": [
    "5 5 5 5 5 <br>\n",
    "4 4 4 4 <br>\n",
    "3 3 3 <br>\n",
    "2 2 <br>\n",
    "1<br>"
   ]
  },
  {
   "cell_type": "code",
   "execution_count": 29,
   "metadata": {},
   "outputs": [
    {
     "name": "stdout",
     "output_type": "stream",
     "text": [
      "5 5 5 5 5 \n",
      "4 4 4 4 \n",
      "3 3 3 \n",
      "2 2 \n",
      "1 \n"
     ]
    }
   ],
   "source": [
    "n = 5 \n",
    "for i in range(n,0,-1):\n",
    "    for j in range(i):\n",
    "        print(i, end =\" \")\n",
    "    print()"
   ]
  },
  {
   "cell_type": "markdown",
   "metadata": {},
   "source": [
    "1 <br>\n",
    "2 1 <br>\n",
    "3 2 1 <br>\n",
    "4 3 2 1 <br>\n",
    "5 4 3 2 1<br>"
   ]
  },
  {
   "cell_type": "code",
   "execution_count": 33,
   "metadata": {},
   "outputs": [
    {
     "name": "stdout",
     "output_type": "stream",
     "text": [
      "1 \n",
      "2 1 \n",
      "3 2 1 \n",
      "4 3 2 1 \n",
      "5 4 3 2 1 \n"
     ]
    }
   ],
   "source": [
    "n = 5\n",
    "for i in range(0,n,1):\n",
    "    for j in range(i+1,0,-1):\n",
    "        print(j, end = \" \")\n",
    "    print()"
   ]
  },
  {
   "cell_type": "markdown",
   "metadata": {},
   "source": [
    "5 4 3 2 1 <br>\n",
    "4 3 2 1 <br>\n",
    "3 2 1 <br>\n",
    "2 1 <br>\n",
    "1<br>"
   ]
  },
  {
   "cell_type": "code",
   "execution_count": 39,
   "metadata": {},
   "outputs": [
    {
     "name": "stdout",
     "output_type": "stream",
     "text": [
      "5 4 3 2 1 \n",
      "4 3 2 1 \n",
      "3 2 1 \n",
      "2 1 \n",
      "1 \n"
     ]
    }
   ],
   "source": [
    "for i in range(n,0,-1):\n",
    "    for j in range(i,0,-1):\n",
    "        print(j, end=\" \")\n",
    "    print()"
   ]
  },
  {
   "cell_type": "markdown",
   "metadata": {},
   "source": [
    "1<br>\n",
    "3 2<br>\n",
    "6 5 4<br>\n",
    "10 9 8 7<br>"
   ]
  },
  {
   "cell_type": "code",
   "execution_count": 74,
   "metadata": {},
   "outputs": [
    {
     "name": "stdout",
     "output_type": "stream",
     "text": [
      "1 \n",
      "3 2 \n",
      "6 5 4 \n",
      "10 9 8 7 \n"
     ]
    }
   ],
   "source": [
    "n=5\n",
    "k=1\n",
    "for i in range(1,n):\n",
    "    start = k+i-1\n",
    "    end = k-1\n",
    "    k+=i\n",
    "    for j in range(start,end,-1):\n",
    "        print(j,end=\" \")\n",
    "    print()"
   ]
  },
  {
   "cell_type": "markdown",
   "metadata": {},
   "source": [
    "            1 \n",
    "          1 2 \n",
    "        1 2 3 \n",
    "      1 2 3 4\n",
    "    1 2 3 4 5"
   ]
  },
  {
   "cell_type": "code",
   "execution_count": 90,
   "metadata": {},
   "outputs": [
    {
     "name": "stdout",
     "output_type": "stream",
     "text": [
      "          \n",
      "        1 \n",
      "      1 2 \n",
      "    1 2 3 \n",
      "  1 2 3 4 \n",
      "1 2 3 4 5 \n"
     ]
    }
   ],
   "source": [
    "n = 5\n",
    "for i in range(n+1):\n",
    "    for j in range(n,i,-1):\n",
    "        print(\" \", end = \" \")\n",
    "    for k in range(1,i+1):\n",
    "        print(k, end = \" \")\n",
    "    print()"
   ]
  },
  {
   "cell_type": "markdown",
   "metadata": {},
   "source": [
    "1 <br>\n",
    "1 1 <br>\n",
    "1 2 1 <br>\n",
    "1 3 3 1 <br>\n",
    "1 4 6 4 1 <br>\n",
    "1 5 10 10 5 1 <br> \n",
    "1 6 15 20 15 6 1<br>"
   ]
  },
  {
   "cell_type": "code",
   "execution_count": null,
   "metadata": {},
   "outputs": [],
   "source": []
  },
  {
   "cell_type": "markdown",
   "metadata": {},
   "source": [
    "**String Problems**"
   ]
  },
  {
   "cell_type": "markdown",
   "metadata": {},
   "source": [
    "Write a program to create a new string made of an input string’s first, middle, and last character."
   ]
  },
  {
   "cell_type": "code",
   "execution_count": 5,
   "metadata": {},
   "outputs": [
    {
     "name": "stdout",
     "output_type": "stream",
     "text": [
      "j m s\n"
     ]
    }
   ],
   "source": [
    "string = input()\n",
    "size = len(string)\n",
    "if size%2 != 0:\n",
    "    print(string[0],string[size // 2],string[-1])\n",
    "else:\n",
    "    print(string[0],string[size // 2],string[-1])"
   ]
  },
  {
   "cell_type": "markdown",
   "metadata": {},
   "source": [
    "Write a program to create a new string made of the middle three characters of an input string"
   ]
  },
  {
   "cell_type": "code",
   "execution_count": 9,
   "metadata": {},
   "outputs": [
    {
     "name": "stdout",
     "output_type": "stream",
     "text": [
      "S o n\n"
     ]
    }
   ],
   "source": [
    "string =input()\n",
    "size = len(string)\n",
    "if size%2 !=0:\n",
    "    print(string[(size // 2)-1], string[(size // 2)], string[(size // 2)+1])\n",
    "else:\n",
    "    print(string[(size // 2)-1], string[(size // 2)], string[(size // 2)+1])"
   ]
  },
  {
   "cell_type": "markdown",
   "metadata": {},
   "source": [
    "Given two strings, s1 and s2. Write a program to create a new string s3 by appending s2 in the middle of s1."
   ]
  },
  {
   "cell_type": "code",
   "execution_count": 17,
   "metadata": {},
   "outputs": [
    {
     "name": "stdout",
     "output_type": "stream",
     "text": [
      "AuKellythy\n"
     ]
    }
   ],
   "source": [
    "s1 = input()\n",
    "s2 = input()\n",
    "size = len(s1)//2\n",
    "s3 = s1[:size] + s2 +s1[size:]\n",
    "print(s3)"
   ]
  },
  {
   "cell_type": "markdown",
   "metadata": {},
   "source": [
    "Write a program to arrange the characters of a string so that all lowercase letters should come first."
   ]
  },
  {
   "cell_type": "code",
   "execution_count": 37,
   "metadata": {},
   "outputs": [
    {
     "name": "stdout",
     "output_type": "stream",
     "text": [
      "ellySH\n"
     ]
    }
   ],
   "source": [
    "string = \"SHelly\"\n",
    "size = len(string)\n",
    "s1 = []\n",
    "s2 = []\n",
    "for i in range(0,size):\n",
    "    if string[i].isupper():\n",
    "        s1.append(string[i])\n",
    "    else:\n",
    "        s2.append(string[i])\n",
    "s3 = \"\".join(s2+s1)\n",
    "print(s3)"
   ]
  },
  {
   "cell_type": "markdown",
   "metadata": {},
   "source": [
    "Given two strings, s1 and s2, write a program to return a new string made of s1 and s2’s first, middle, and last characters."
   ]
  },
  {
   "cell_type": "code",
   "execution_count": 38,
   "metadata": {},
   "outputs": [
    {
     "name": "stdout",
     "output_type": "stream",
     "text": [
      "ASrlan\n"
     ]
    }
   ],
   "source": [
    "s1 = \"America\"\n",
    "s2 = \"Sheldon\"\n",
    "s3 = s1[0]+s2[0]+s1[len(s1) // 2]+s2[len(s2) // 2]+s1[-1]+s2[-1]\n",
    "\n",
    "print(s3)"
   ]
  },
  {
   "cell_type": "markdown",
   "metadata": {},
   "source": [
    "Count all letters, digits, and special symbols from a given string"
   ]
  },
  {
   "cell_type": "code",
   "execution_count": 39,
   "metadata": {},
   "outputs": [
    {
     "name": "stdout",
     "output_type": "stream",
     "text": [
      "Alphabet =  8\n",
      "Digit =  3\n",
      "Symbol =  4\n"
     ]
    }
   ],
   "source": [
    "string = \"P@#yn26at^&i5ve\"\n",
    "digit_count,alpha_count,symbol_count = 0,0,0\n",
    "for i in range(0,len(string)):\n",
    "    if string[i].isalpha():\n",
    "        alpha_count += 1\n",
    "    elif string[i].isdigit():\n",
    "        digit_count +=1\n",
    "    else:\n",
    "        symbol_count += 1\n",
    "print(\"Alphabet = \", alpha_count)\n",
    "print(\"Digit = \", digit_count)\n",
    "print(\"Symbol = \", symbol_count)\n"
   ]
  },
  {
   "cell_type": "markdown",
   "metadata": {},
   "source": [
    "Given two strings, s1 and s2. Write a program to create a new string s3 made of the first char of s1, then the last char of s2, Next, the second char of s1 and second last char of s2, and so on."
   ]
  },
  {
   "cell_type": "code",
   "execution_count": 44,
   "metadata": {},
   "outputs": [
    {
     "name": "stdout",
     "output_type": "stream",
     "text": [
      "AzbycX"
     ]
    }
   ],
   "source": [
    "s1 = \"Abc\"\n",
    "s2 = \"Xyz\"\n",
    "i = list(s2)\n",
    "j = list(s1)\n",
    "i.reverse()\n",
    "for k in range(0,len(j)):\n",
    "    s3 = j[k]+i[k]\n",
    "    print(s3,end=\"\")"
   ]
  },
  {
   "cell_type": "markdown",
   "metadata": {},
   "source": [
    "Write a program to check if two strings are balanced. For example, strings s1 and s2 are balanced if all the characters in the s1 are present in s2. The character’s position doesn’t matter."
   ]
  },
  {
   "cell_type": "code",
   "execution_count": 51,
   "metadata": {},
   "outputs": [
    {
     "name": "stdout",
     "output_type": "stream",
     "text": [
      "True\n"
     ]
    }
   ],
   "source": [
    "s1 = \"Yn\"\n",
    "s2 = \"PYnative\"\n",
    "s1=set()\n",
    "s2=set()\n",
    "s3 = s1.issubset(s2)\n",
    "print(s3)"
   ]
  },
  {
   "cell_type": "markdown",
   "metadata": {},
   "source": [
    "Write a program to find all occurrences of “USA” in a given string ignoring the case.\n",
    "\n"
   ]
  },
  {
   "cell_type": "code",
   "execution_count": 61,
   "metadata": {},
   "outputs": [
    {
     "name": "stdout",
     "output_type": "stream",
     "text": [
      "USA\n",
      "usa\n",
      "2\n"
     ]
    }
   ],
   "source": [
    "str1 = \"Welcome to USA. usa awesome, isn't it?\"\n",
    "str2 = str1.split(\" \")\n",
    "str3 = \"USA\"\n",
    "count = 0\n",
    "words = [word.strip('.,!?') for word in str2]\n",
    "for elements in words:\n",
    "    if str3 == elements.upper():\n",
    "        count += 1\n",
    "print(count)"
   ]
  },
  {
   "cell_type": "markdown",
   "metadata": {},
   "source": [
    "Given a string s1, write a program to return the sum and average of the digits that appear in the string, ignoring all other characters."
   ]
  },
  {
   "cell_type": "code",
   "execution_count": 68,
   "metadata": {},
   "outputs": [
    {
     "name": "stdout",
     "output_type": "stream",
     "text": [
      "Sum:  13  Average:  4.333333333333333\n"
     ]
    }
   ],
   "source": [
    "str1 = \"P@#yn26at^&i5ve\"\n",
    "sum,count = 0,0\n",
    "for i in range(len(str1)):\n",
    "    if str1[i].isdigit():\n",
    "        count +=1\n",
    "        sum += int(str1[i])\n",
    "    average = (sum)/count if count >0 else 0 \n",
    "print(\"Sum: \",sum, \" Average: \",average)"
   ]
  },
  {
   "cell_type": "markdown",
   "metadata": {},
   "source": [
    " Write a program to count occurrences of all characters within a string"
   ]
  },
  {
   "cell_type": "code",
   "execution_count": 1,
   "metadata": {},
   "outputs": [
    {
     "name": "stdout",
     "output_type": "stream",
     "text": [
      "{'A': 1, 'p': 2, 'l': 1, 'e': 1}\n"
     ]
    }
   ],
   "source": [
    "str1 = \"Apple\"\n",
    "count = 0\n",
    "dic = {}\n",
    "for i in str1:\n",
    "    count = str1.count(i)\n",
    "    dic[i] = count\n",
    "print(dic)"
   ]
  },
  {
   "cell_type": "markdown",
   "metadata": {},
   "source": [
    "Reverse a given string"
   ]
  },
  {
   "cell_type": "code",
   "execution_count": 4,
   "metadata": {},
   "outputs": [
    {
     "name": "stdout",
     "output_type": "stream",
     "text": [
      "evitanYP\n"
     ]
    }
   ],
   "source": [
    "string = \"PYnative\"\n",
    "print(string[::-1])"
   ]
  },
  {
   "cell_type": "markdown",
   "metadata": {},
   "source": [
    "Write a program to find the last position of a substring “Emma” in a given string."
   ]
  },
  {
   "cell_type": "code",
   "execution_count": 12,
   "metadata": {},
   "outputs": [
    {
     "name": "stdout",
     "output_type": "stream",
     "text": [
      "43\n"
     ]
    }
   ],
   "source": [
    "str1 = \"Emma is a data scientist who knows Python. Emma works at google.\"\n",
    "print(str1.rfind(\"Emma\"))"
   ]
  },
  {
   "cell_type": "markdown",
   "metadata": {},
   "source": [
    "Write a program to split a given string on hyphens and display each substring."
   ]
  },
  {
   "cell_type": "code",
   "execution_count": 14,
   "metadata": {},
   "outputs": [
    {
     "name": "stdout",
     "output_type": "stream",
     "text": [
      "Emma\n",
      "is\n",
      "a\n",
      "data\n",
      "scientist\n"
     ]
    }
   ],
   "source": [
    "str1 = \"Emma-is-a-data-scientist\"\n",
    "x = str1.split(\"-\")\n",
    "for i in x:\n",
    "    print(i)"
   ]
  },
  {
   "cell_type": "markdown",
   "metadata": {},
   "source": [
    "Remove empty strings from a list of strings"
   ]
  },
  {
   "cell_type": "code",
   "execution_count": 15,
   "metadata": {},
   "outputs": [
    {
     "name": "stdout",
     "output_type": "stream",
     "text": [
      "['Emma', 'Jon', 'Kelly', None, 'Eric']\n"
     ]
    }
   ],
   "source": [
    "str_list = [\"Emma\", \"Jon\", \"\", \"Kelly\", None, \"Eric\", \"\"]\n",
    "str_list1 = []\n",
    "for i in str_list:\n",
    "    if \"\" != i:\n",
    "        str_list1.append(i)\n",
    "print(str_list1)"
   ]
  },
  {
   "cell_type": "markdown",
   "metadata": {},
   "source": [
    "Remove special symbols / punctuation from a string"
   ]
  },
  {
   "cell_type": "code",
   "execution_count": 17,
   "metadata": {},
   "outputs": [
    {
     "name": "stdout",
     "output_type": "stream",
     "text": [
      "Jon is developer  musician\n"
     ]
    }
   ],
   "source": [
    "import string\n",
    "str1 = \"/*Jon is @developer & musician\"\n",
    "str2 = str1.translate(str.maketrans(\"\",\"\",string.punctuation))\n",
    "print(str2)"
   ]
  },
  {
   "cell_type": "markdown",
   "metadata": {},
   "source": [
    "Removal all characters from a string except integers"
   ]
  },
  {
   "cell_type": "code",
   "execution_count": 19,
   "metadata": {},
   "outputs": [
    {
     "name": "stdout",
     "output_type": "stream",
     "text": [
      "2510"
     ]
    }
   ],
   "source": [
    "str1 = 'I am 25 years and 10 months old'\n",
    "for i in range(0,len(str1)):\n",
    "    if str1[i].isdigit():\n",
    "        print(str1[i],end=\"\")"
   ]
  },
  {
   "cell_type": "markdown",
   "metadata": {},
   "source": [
    "Write a program to find words with both alphabets and numbers from an input string."
   ]
  },
  {
   "cell_type": "code",
   "execution_count": 37,
   "metadata": {},
   "outputs": [
    {
     "name": "stdout",
     "output_type": "stream",
     "text": [
      "['Emma25', 'scientist50']\n"
     ]
    }
   ],
   "source": [
    "str1 = \"Emma25 is Data scientist50 and AI Expert\"\n",
    "str3 = str1.split()\n",
    "str2 = []\n",
    "for char in str3:\n",
    "    if any(item.isalpha() for item in char) and any(item.isdigit() for item in char):\n",
    "        str2.append(char)\n",
    "print(str2)\n"
   ]
  },
  {
   "cell_type": "markdown",
   "metadata": {},
   "source": [
    " Replace each special symbol with # in the following string"
   ]
  },
  {
   "cell_type": "code",
   "execution_count": 48,
   "metadata": {},
   "outputs": [
    {
     "name": "stdout",
     "output_type": "stream",
     "text": [
      "##Jon is #developer # musician##\n"
     ]
    }
   ],
   "source": [
    "import string\n",
    "str1 = '/*Jon is @developer & musician!!'\n",
    "for i in string.punctuation:\n",
    "    str1 = str1.replace(i,\"#\")\n",
    "print(str1)"
   ]
  },
  {
   "cell_type": "markdown",
   "metadata": {},
   "source": [
    "Write a program to display all prime numbers within a range"
   ]
  },
  {
   "cell_type": "code",
   "execution_count": 63,
   "metadata": {},
   "outputs": [
    {
     "name": "stdout",
     "output_type": "stream",
     "text": [
      "11 13 15 17 19 "
     ]
    }
   ],
   "source": [
    "n = 10\n",
    "m = 20\n",
    "p = 2\n",
    "for i in range(n,m):\n",
    "    for j in range(p,i):\n",
    "        if i%j == 0:\n",
    "            break\n",
    "        else:\n",
    "            print(i, end = \" \")\n",
    "            break"
   ]
  },
  {
   "cell_type": "markdown",
   "metadata": {},
   "source": [
    "The Fibonacci Sequence is a series of numbers. The next number is found by adding up the two numbers before it. The first two numbers are 0 and 1.\n",
    "\n",
    "For example, 0, 1, 1, 2, 3, 5, 8, 13, 21. The next number in this series above is 13+21 = 34."
   ]
  },
  {
   "cell_type": "code",
   "execution_count": 5,
   "metadata": {},
   "outputs": [
    {
     "name": "stdout",
     "output_type": "stream",
     "text": [
      "0 1 1 2 3 5 8 13 21 34 55 "
     ]
    }
   ],
   "source": [
    "n = 10\n",
    "r,m = 1,0\n",
    "print(m,r,end=\" \")\n",
    "for i in range(1,n):\n",
    "    sum = m+r\n",
    "    m=r\n",
    "    r=sum\n",
    "    print(sum, end =\" \")"
   ]
  },
  {
   "cell_type": "markdown",
   "metadata": {},
   "source": [
    "Find the factorial of a given number"
   ]
  },
  {
   "cell_type": "code",
   "execution_count": 11,
   "metadata": {},
   "outputs": [
    {
     "name": "stdout",
     "output_type": "stream",
     "text": [
      "120\n"
     ]
    }
   ],
   "source": [
    "n = 5\n",
    "p = 1\n",
    "for i in range(1,n+1):\n",
    "    p = p*i\n",
    "print(p)"
   ]
  },
  {
   "cell_type": "markdown",
   "metadata": {},
   "source": [
    "Reverse a given integer number"
   ]
  },
  {
   "cell_type": "code",
   "execution_count": 17,
   "metadata": {},
   "outputs": [
    {
     "name": "stdout",
     "output_type": "stream",
     "text": [
      "24567\n"
     ]
    }
   ],
   "source": [
    "n,reverse = 76542,0\n",
    "while n>0:\n",
    "    rem = n%10\n",
    "    reverse = reverse*10 + rem\n",
    "    n = n//10\n",
    "print(reverse)"
   ]
  },
  {
   "cell_type": "markdown",
   "metadata": {},
   "source": [
    "Write a program to calculate the sum of series up to n term. For example, if n =5 the series will become 2 + 22 + 222 + 2222 + 22222 = 24690"
   ]
  },
  {
   "cell_type": "code",
   "execution_count": 1,
   "metadata": {},
   "outputs": [
    {
     "name": "stdout",
     "output_type": "stream",
     "text": [
      "24690\n"
     ]
    }
   ],
   "source": [
    "n=5\n",
    "sum,seq = 2,0\n",
    "for i in range(0,n):\n",
    "    seq += sum\n",
    "    sum = (sum*10)+2 \n",
    "print(seq)"
   ]
  },
  {
   "cell_type": "markdown",
   "metadata": {},
   "source": [
    "DataStructures"
   ]
  },
  {
   "cell_type": "markdown",
   "metadata": {},
   "source": [
    "Create a list by picking an odd-index items from the first list and even index items from the second"
   ]
  },
  {
   "cell_type": "code",
   "execution_count": 9,
   "metadata": {},
   "outputs": [
    {
     "name": "stdout",
     "output_type": "stream",
     "text": [
      "[6, 12, 18, 4, 12, 20, 28]\n"
     ]
    }
   ],
   "source": [
    "l1 = [3, 6, 9, 12, 15, 18, 21]\n",
    "l2 = [4, 8, 12, 16, 20, 24, 28]\n",
    "odd_list,even_list, l3 = [],[],[]\n",
    "for i in range(0,len(l1)):\n",
    "    if i%2 != 0:\n",
    "        odd_list.append(l1[i])\n",
    "for i in range(0,len(l2)):\n",
    "    if i%2 == 0:\n",
    "        even_list.append(l2[i])\n",
    "l3 = odd_list +even_list\n",
    "print(l3)"
   ]
  },
  {
   "cell_type": "markdown",
   "metadata": {},
   "source": [
    "Write a program to remove the item present at index 4 and add it to the 2nd position and at the end of the list."
   ]
  },
  {
   "cell_type": "code",
   "execution_count": 17,
   "metadata": {},
   "outputs": [
    {
     "name": "stdout",
     "output_type": "stream",
     "text": [
      "List Removed at index 4  91\n",
      "List Added to 2nd position  [54, 44, 27, 91, 79, 41]\n",
      "List added to last position  [54, 44, 27, 91, 79, 41, 91]\n"
     ]
    }
   ],
   "source": [
    "list1 = [54, 44, 27, 79, 91, 41]\n",
    "element = list1.pop(4)\n",
    "print(\"List Removed at index 4 \", element)\n",
    "list1.insert(3, element)\n",
    "print(\"List Added to 2nd position \", list1)\n",
    "list1.append(element)\n",
    "print(\"List added to last position \",list1 )"
   ]
  },
  {
   "cell_type": "markdown",
   "metadata": {},
   "source": [
    "y"
   ]
  },
  {
   "cell_type": "code",
   "execution_count": null,
   "metadata": {},
   "outputs": [],
   "source": []
  },
  {
   "cell_type": "markdown",
   "metadata": {},
   "source": [
    "y"
   ]
  },
  {
   "cell_type": "code",
   "execution_count": null,
   "metadata": {},
   "outputs": [],
   "source": []
  },
  {
   "cell_type": "markdown",
   "metadata": {},
   "source": [
    "y"
   ]
  },
  {
   "cell_type": "code",
   "execution_count": null,
   "metadata": {},
   "outputs": [],
   "source": []
  }
 ],
 "metadata": {
  "kernelspec": {
   "display_name": "pyenv",
   "language": "python",
   "name": "python3"
  },
  "language_info": {
   "codemirror_mode": {
    "name": "ipython",
    "version": 3
   },
   "file_extension": ".py",
   "mimetype": "text/x-python",
   "name": "python",
   "nbconvert_exporter": "python",
   "pygments_lexer": "ipython3",
   "version": "3.9.19"
  }
 },
 "nbformat": 4,
 "nbformat_minor": 2
}
